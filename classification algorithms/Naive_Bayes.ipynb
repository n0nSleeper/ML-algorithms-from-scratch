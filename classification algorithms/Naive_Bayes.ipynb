{
 "cells": [
  {
   "cell_type": "code",
   "execution_count": 175,
   "metadata": {},
   "outputs": [],
   "source": [
    "import numpy as np\n",
    "from sklearn import datasets\n",
    "from sklearn.model_selection import train_test_split\n"
   ]
  },
  {
   "cell_type": "code",
   "execution_count": 176,
   "metadata": {},
   "outputs": [],
   "source": [
    "X, Y = datasets.make_classification(n_samples=10000, n_features=10, n_informative=3 , n_classes=3)#, random_state=3119)\n",
    "\n",
    "X_train, X_test, Y_train, Y_test = train_test_split(X, Y, test_size=0.2, random_state=3119)\n"
   ]
  },
  {
   "cell_type": "code",
   "execution_count": 177,
   "metadata": {},
   "outputs": [],
   "source": [
    "class Naive_Bayes:\n",
    "    def __init__(self):\n",
    "        pass\n",
    "\n",
    "    def fit(self, X, Y):\n",
    "        self.n_samples, self.n_features = X.shape\n",
    "\n",
    "        self._classes = np.unique(Y)\n",
    "        n_classes = len(self._classes)\n",
    "\n",
    "        self.mean = np.zeros((n_classes, self.n_features), dtype=np.float64)\n",
    "        self.var = np.zeros((n_classes, self.n_features), dtype=np.float64)\n",
    "        self.prior = np.zeros(n_classes, dtype=np.float64)\n",
    "\n",
    "        for idx, cls in enumerate(self._classes):\n",
    "            X_c = X[Y == cls]\n",
    "            self.mean[idx, :] = X_c.mean(axis = 0)\n",
    "            self.var[idx, :] = X_c.var(axis = 0)\n",
    "            self.prior[idx] = X_c.shape[0] / float(self.n_samples) \n",
    "    \n",
    "\n",
    "    def predict(self, X):\n",
    "        predictions = [self._predict(x) for x in X]\n",
    "        return np.array(predictions)\n",
    "    \n",
    "    def _predict(self, x):\n",
    "        posterior_prob = []\n",
    "\n",
    "        for idx, cls in enumerate(self._classes):\n",
    "            log_prior = np.log(self.prior[idx])\n",
    "\n",
    "            log_likelihoods = np.sum(np.log(self._pdf(idx, x)))\n",
    "\n",
    "            posterior = log_likelihoods + log_prior\n",
    "            posterior_prob.append(posterior)\n",
    "        return self._classes[np.argmax(posterior_prob)]\n",
    "\n",
    "    def _pdf(self, idx, x):\n",
    "        mean = self.mean[idx]\n",
    "        var = self.var[idx]\n",
    "\n",
    "        numerator = np.exp(-((x-mean)**2) / (2 * var))\n",
    "        denominator = np.sqrt(2 * np.pi * var)\n",
    "\n",
    "        return numerator/denominator\n",
    "    \n"
   ]
  },
  {
   "cell_type": "code",
   "execution_count": 178,
   "metadata": {},
   "outputs": [
    {
     "name": "stdout",
     "output_type": "stream",
     "text": [
      "Accuracy: 0.8745\n"
     ]
    }
   ],
   "source": [
    "nb = Naive_Bayes()\n",
    "nb.fit(X_train, Y_train)\n",
    "\n",
    "predictions = nb.predict(X_test)\n",
    "\n",
    "acc = np.sum(predictions == Y_test)/len(Y_test)\n",
    "print(f\"Accuracy: {acc}\")"
   ]
  }
 ],
 "metadata": {
  "kernelspec": {
   "display_name": "Python 3",
   "language": "python",
   "name": "python3"
  },
  "language_info": {
   "codemirror_mode": {
    "name": "ipython",
    "version": 3
   },
   "file_extension": ".py",
   "mimetype": "text/x-python",
   "name": "python",
   "nbconvert_exporter": "python",
   "pygments_lexer": "ipython3",
   "version": "3.10.5"
  },
  "orig_nbformat": 4
 },
 "nbformat": 4,
 "nbformat_minor": 2
}
