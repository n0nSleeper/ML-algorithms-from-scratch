{
 "cells": [
  {
   "cell_type": "code",
   "execution_count": 168,
   "metadata": {},
   "outputs": [],
   "source": [
    "import numpy as np\n",
    "import matplotlib.pyplot as plt\n",
    "from sklearn.model_selection import train_test_split \n",
    "import pandas as pd\n",
    "from collections import Counter\n",
    "from sklearn import datasets"
   ]
  },
  {
   "cell_type": "code",
   "execution_count": 169,
   "metadata": {},
   "outputs": [],
   "source": [
    "df = pd.read_csv(\"teleCust1000t.csv\")\n",
    "X = np.array(df.drop([\"custcat\"], axis = 1), dtype = \"float64\")\n",
    "Y = np.array(df[\"custcat\"], dtype = \"float64\")\n",
    "\n",
    "\n",
    "# iris = datasets.load_iris()\n",
    "# X, Y = iris.data, iris.target\n",
    "\n",
    "# Y"
   ]
  },
  {
   "cell_type": "code",
   "execution_count": 170,
   "metadata": {},
   "outputs": [],
   "source": [
    "# Euclidean distance\n",
    "\n",
    "def Euclidean_distance(x1, x2):\n",
    "    return np.sqrt(np.sum(np.square(x1 - x2)))\n",
    "\n",
    "def Euclidean_distance_matrix(x1, x2):\n",
    "    return 1\n",
    "\n"
   ]
  },
  {
   "cell_type": "code",
   "execution_count": 171,
   "metadata": {},
   "outputs": [],
   "source": [
    "X_train, X_test, Y_train, Y_test, = train_test_split(X, Y, test_size = 0.5, random_state = 3119)\n"
   ]
  },
  {
   "cell_type": "code",
   "execution_count": 172,
   "metadata": {},
   "outputs": [],
   "source": [
    "class KNN_clf:\n",
    "    def __init__(self, k):\n",
    "        self.k = k\n",
    "    \n",
    "    def model_fit(self, X_train, Y_train):\n",
    "        self.X_train = X_train\n",
    "        self.Y_train = Y_train\n",
    "\n",
    "    def predictions(self, X_test):\n",
    "        prediction = [self.predict(x) for x in X_test]\n",
    "        return prediction\n",
    "\n",
    "    def predict(self, x):\n",
    "        distances = [Euclidean_distance(x, x_train) for x_train in self.X_train]\n",
    "\n",
    "        indecies = np.argsort(distances)[:self.k]\n",
    "        nearest_neighbours = [Y_train[i] for i in indecies]\n",
    "\n",
    "        catg = Counter(nearest_neighbours).most_common(1)[0][0]\n",
    "\n",
    "        return catg\n",
    "        \n",
    "\n"
   ]
  },
  {
   "cell_type": "code",
   "execution_count": 173,
   "metadata": {},
   "outputs": [],
   "source": [
    "clf = KNN_clf(k = 7)\n",
    "clf.model_fit(X_train, Y_train)\n",
    "train_predictions = clf.predictions(X_train)\n",
    "test_predictions = clf.predictions(X_test)"
   ]
  },
  {
   "cell_type": "code",
   "execution_count": 174,
   "metadata": {},
   "outputs": [
    {
     "name": "stdout",
     "output_type": "stream",
     "text": [
      "Training accuracy: 0.638\n",
      "Test accuracy: 0.33\n"
     ]
    }
   ],
   "source": [
    "train_accuracy = np.sum(train_predictions == Y_train)/len(Y_train)\n",
    "test_accuracy = np.sum(test_predictions == Y_test)/len(Y_test)\n",
    "\n",
    "print(f\"Training accuracy: {train_accuracy}\")\n",
    "print(f\"Test accuracy: {test_accuracy}\")"
   ]
  }
 ],
 "metadata": {
  "kernelspec": {
   "display_name": "Python 3",
   "language": "python",
   "name": "python3"
  },
  "language_info": {
   "codemirror_mode": {
    "name": "ipython",
    "version": 3
   },
   "file_extension": ".py",
   "mimetype": "text/x-python",
   "name": "python",
   "nbconvert_exporter": "python",
   "pygments_lexer": "ipython3",
   "version": "3.10.5"
  },
  "orig_nbformat": 4
 },
 "nbformat": 4,
 "nbformat_minor": 2
}
