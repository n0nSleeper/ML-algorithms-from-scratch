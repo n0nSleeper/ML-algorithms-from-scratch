{
 "cells": [
  {
   "cell_type": "code",
   "execution_count": 19,
   "metadata": {},
   "outputs": [],
   "source": [
    "import numpy as np\n",
    "from sklearn import datasets\n",
    "from sklearn.model_selection import train_test_split\n",
    "from decision_tree import Decision_Tree\n",
    "from collections import Counter\n",
    "\n"
   ]
  },
  {
   "cell_type": "code",
   "execution_count": 20,
   "metadata": {},
   "outputs": [],
   "source": [
    "class RandomForest:\n",
    "    def __init__ (self, n_trees= 10, max_tree_depth= 10, min_sample_split= 2, n_features = None):\n",
    "        self.n_trees = n_trees\n",
    "        self.max_tree_depth = max_tree_depth\n",
    "        self.min_sample_split = min_sample_split\n",
    "        self.n_features = n_features\n",
    "        self.trees = [] \n",
    "\n",
    "    def fit(self, X, Y):\n",
    "        for _ in range(self.n_trees):\n",
    "            tree = Decision_Tree(self.min_sample_split, self.max_tree_depth, self.n_features)\n",
    "\n",
    "            X_sample, Y_sample = self._bootstrapping(X, Y)\n",
    "            tree.fit(X_sample, Y_sample)\n",
    "\n",
    "            self.trees.append(tree)\n",
    "\n",
    "    def _bootstrapping(self, X, Y):\n",
    "        n_samples = X.shape[0]\n",
    "        idxs = np.random.choice(n_samples, n_samples, replace= True)\n",
    "\n",
    "        return X[idxs], Y[idxs]\n",
    "    \n",
    "    def _most_common(self, Y):\n",
    "        counter = Counter(Y)\n",
    "        return counter.most_common(1)[0][0]\n",
    "\n",
    "    def predict(self, X):\n",
    "        predictions_matrix = np.array([tree.predict(X) for tree in self.trees]).T\n",
    "        predictions = np.array([self._most_common(pred) for pred in predictions_matrix])\n",
    "        return predictions\n",
    "    "
   ]
  },
  {
   "cell_type": "code",
   "execution_count": 21,
   "metadata": {},
   "outputs": [],
   "source": [
    "datas = datasets.load_breast_cancer()\n",
    "\n",
    "X, Y = datas.data, datas.target\n",
    "\n",
    "X_train, X_test, Y_train, Y_test = train_test_split(X, Y, test_size= 0.2, random_state= 3119)\n",
    "\n"
   ]
  },
  {
   "cell_type": "code",
   "execution_count": 22,
   "metadata": {},
   "outputs": [],
   "source": [
    "clf = RandomForest()\n",
    "clf.fit(X_train, Y_train)\n",
    "\n",
    "predictions = clf.predict(X_test)\n",
    "\n"
   ]
  },
  {
   "cell_type": "code",
   "execution_count": 23,
   "metadata": {},
   "outputs": [
    {
     "name": "stdout",
     "output_type": "stream",
     "text": [
      "Accuracy: 0.956140350877193\n"
     ]
    }
   ],
   "source": [
    "acc = np.sum(predictions == Y_test)/len(Y_test)\n",
    "\n",
    "print(f\"Accuracy: {acc}\")"
   ]
  }
 ],
 "metadata": {
  "kernelspec": {
   "display_name": "Python 3",
   "language": "python",
   "name": "python3"
  },
  "language_info": {
   "codemirror_mode": {
    "name": "ipython",
    "version": 3
   },
   "file_extension": ".py",
   "mimetype": "text/x-python",
   "name": "python",
   "nbconvert_exporter": "python",
   "pygments_lexer": "ipython3",
   "version": "3.10.5"
  },
  "orig_nbformat": 4
 },
 "nbformat": 4,
 "nbformat_minor": 2
}
